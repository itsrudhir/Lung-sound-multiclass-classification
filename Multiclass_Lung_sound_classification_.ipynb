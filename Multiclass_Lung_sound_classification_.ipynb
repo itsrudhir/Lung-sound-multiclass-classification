{
 "cells": [
  {
   "cell_type": "code",
   "execution_count": 1,
   "id": "bb56c4f9",
   "metadata": {
    "execution": {
     "iopub.execute_input": "2024-03-29T06:31:09.822346Z",
     "iopub.status.busy": "2024-03-29T06:31:09.821999Z",
     "iopub.status.idle": "2024-03-29T06:31:23.233711Z",
     "shell.execute_reply": "2024-03-29T06:31:23.232699Z"
    },
    "papermill": {
     "duration": 13.423929,
     "end_time": "2024-03-29T06:31:23.235932",
     "exception": false,
     "start_time": "2024-03-29T06:31:09.812003",
     "status": "completed"
    },
    "tags": []
   },
   "outputs": [
    {
     "name": "stderr",
     "output_type": "stream",
     "text": [
      "2024-03-29 06:31:11.709346: E external/local_xla/xla/stream_executor/cuda/cuda_dnn.cc:9261] Unable to register cuDNN factory: Attempting to register factory for plugin cuDNN when one has already been registered\n",
      "2024-03-29 06:31:11.709444: E external/local_xla/xla/stream_executor/cuda/cuda_fft.cc:607] Unable to register cuFFT factory: Attempting to register factory for plugin cuFFT when one has already been registered\n",
      "2024-03-29 06:31:11.850402: E external/local_xla/xla/stream_executor/cuda/cuda_blas.cc:1515] Unable to register cuBLAS factory: Attempting to register factory for plugin cuBLAS when one has already been registered\n"
     ]
    }
   ],
   "source": [
    "import os\n",
    "import numpy as np\n",
    "import tensorflow as tf\n",
    "from tensorflow.keras import layers, models\n",
    "from sklearn.model_selection import train_test_split\n",
    "from sklearn.preprocessing import LabelEncoder\n",
    "from tensorflow.keras.utils import to_categorical\n",
    "from scipy.io import wavfile\n",
    "from scipy.signal import stft\n",
    "from pathlib import Path"
   ]
  },
  {
   "cell_type": "code",
   "execution_count": 2,
   "id": "f34c2f8d",
   "metadata": {
    "execution": {
     "iopub.execute_input": "2024-03-29T06:31:23.254419Z",
     "iopub.status.busy": "2024-03-29T06:31:23.253753Z",
     "iopub.status.idle": "2024-03-29T06:31:23.259051Z",
     "shell.execute_reply": "2024-03-29T06:31:23.258239Z"
    },
    "papermill": {
     "duration": 0.016176,
     "end_time": "2024-03-29T06:31:23.260948",
     "exception": false,
     "start_time": "2024-03-29T06:31:23.244772",
     "status": "completed"
    },
    "tags": []
   },
   "outputs": [],
   "source": [
    "def load_and_process_wav(file_path):\n",
    "    sample_rate, data = wavfile.read(file_path)\n",
    "    \n",
    "    freq, times, stft_data = stft(data, fs=sample_rate, nperseg=400, noverlap=200)  \n",
    "    # Normalize the magnitude of STFT\n",
    "    new_stft = np.abs(stft_data)\n",
    "    new_stft /= np.max(new_stft)\n",
    "    return new_stft"
   ]
  },
  {
   "cell_type": "code",
   "execution_count": 3,
   "id": "35f8df4b",
   "metadata": {
    "execution": {
     "iopub.execute_input": "2024-03-29T06:31:23.278100Z",
     "iopub.status.busy": "2024-03-29T06:31:23.277805Z",
     "iopub.status.idle": "2024-03-29T06:31:23.281672Z",
     "shell.execute_reply": "2024-03-29T06:31:23.280843Z"
    },
    "papermill": {
     "duration": 0.014486,
     "end_time": "2024-03-29T06:31:23.283544",
     "exception": false,
     "start_time": "2024-03-29T06:31:23.269058",
     "status": "completed"
    },
    "tags": []
   },
   "outputs": [],
   "source": [
    "paths = [\n",
    "    r\"/kaggle/input/class-cv-lungs/ICBHI/COPD\",\n",
    "    r\"/kaggle/input/class-cv-lungs/ICBHI/Healthy\",\n",
    "    r\"/kaggle/input/class-cv-lungs/ICBHI/Pneumonia\"\n",
    "]"
   ]
  },
  {
   "cell_type": "code",
   "execution_count": 4,
   "id": "34c82bf8",
   "metadata": {
    "execution": {
     "iopub.execute_input": "2024-03-29T06:31:23.300800Z",
     "iopub.status.busy": "2024-03-29T06:31:23.300527Z",
     "iopub.status.idle": "2024-03-29T06:31:25.239010Z",
     "shell.execute_reply": "2024-03-29T06:31:25.238209Z"
    },
    "papermill": {
     "duration": 1.94954,
     "end_time": "2024-03-29T06:31:25.241262",
     "exception": false,
     "start_time": "2024-03-29T06:31:23.291722",
     "status": "completed"
    },
    "tags": []
   },
   "outputs": [],
   "source": [
    "X_spectrograms = []\n",
    "labels = []\n",
    "\n",
    "\n",
    "for path in paths:\n",
    "    base_path = Path(path)\n",
    "    \n",
    "    \n",
    "    if path == r\"/kaggle/input/class-cv-lungs/ICBHI/COPD\":\n",
    "        label = 'COPD'\n",
    "    elif path == r\"/kaggle/input/class-cv-lungs/ICBHI/Healthy\":\n",
    "        label = 'Healthy'\n",
    "    elif path == r\"/kaggle/input/class-cv-lungs/ICBHI/Pneumonia\":\n",
    "        label = 'Pneumonia'\n",
    "    \n",
    "    \n",
    "    for wav_file_path in base_path.glob(\"*.wav\"):\n",
    "        # Load and process .wav file\n",
    "        spectrogram = load_and_process_wav(wav_file_path)\n",
    "        X_spectrograms.append(spectrogram)\n",
    "        labels.append(label)"
   ]
  },
  {
   "cell_type": "code",
   "execution_count": 5,
   "id": "cd34426f",
   "metadata": {
    "execution": {
     "iopub.execute_input": "2024-03-29T06:31:25.260181Z",
     "iopub.status.busy": "2024-03-29T06:31:25.259576Z",
     "iopub.status.idle": "2024-03-29T06:31:25.265682Z",
     "shell.execute_reply": "2024-03-29T06:31:25.264801Z"
    },
    "papermill": {
     "duration": 0.017678,
     "end_time": "2024-03-29T06:31:25.267768",
     "exception": false,
     "start_time": "2024-03-29T06:31:25.250090",
     "status": "completed"
    },
    "tags": []
   },
   "outputs": [],
   "source": [
    "label_encoder = LabelEncoder()\n",
    "y_encoded = label_encoder.fit_transform(labels)\n",
    "y_categorical = to_categorical(y_encoded)"
   ]
  },
  {
   "cell_type": "code",
   "execution_count": 6,
   "id": "1da81388",
   "metadata": {
    "execution": {
     "iopub.execute_input": "2024-03-29T06:31:25.286620Z",
     "iopub.status.busy": "2024-03-29T06:31:25.286339Z",
     "iopub.status.idle": "2024-03-29T06:31:25.293825Z",
     "shell.execute_reply": "2024-03-29T06:31:25.292925Z"
    },
    "papermill": {
     "duration": 0.018669,
     "end_time": "2024-03-29T06:31:25.295904",
     "exception": false,
     "start_time": "2024-03-29T06:31:25.277235",
     "status": "completed"
    },
    "tags": []
   },
   "outputs": [
    {
     "data": {
      "text/plain": [
       "array([0, 0, 0, 0, 0, 0, 0, 0, 0, 0, 0, 0, 0, 0, 0, 0, 0, 0, 0, 0, 0, 0,\n",
       "       0, 0, 0, 0, 0, 0, 0, 0, 0, 0, 0, 0, 0, 0, 0, 0, 0, 0, 0, 0, 0, 0,\n",
       "       0, 0, 0, 0, 0, 0, 0, 0, 0, 0, 0, 0, 0, 0, 0, 0, 0, 0, 0, 0, 0, 0,\n",
       "       0, 0, 0, 0, 0, 0, 0, 0, 0, 0, 0, 0, 0, 0, 0, 0, 0, 0, 0, 0, 0, 0,\n",
       "       0, 0, 0, 0, 0, 0, 1, 1, 1, 1, 1, 1, 1, 1, 1, 1, 1, 1, 1, 1, 1, 1,\n",
       "       1, 1, 1, 1, 1, 1, 1, 1, 1, 1, 1, 1, 1, 1, 1, 1, 1, 1, 1, 1, 1, 1,\n",
       "       1, 1, 1, 1, 1, 1, 1, 1, 1, 1, 1, 1, 1, 1, 1, 1, 1, 1, 1, 1, 1, 1,\n",
       "       1, 1, 1, 1, 1, 1, 1, 1, 2, 2, 2, 2, 2, 2, 2, 2, 2, 2, 2, 2, 2, 2,\n",
       "       2, 2, 2, 2, 2, 2, 2, 2, 2, 2, 2, 2, 2, 2, 2, 2, 2, 2, 2, 2, 2, 2,\n",
       "       2, 2, 2, 2, 2, 2, 2, 2, 2, 2, 2, 2, 2, 2, 2, 2, 2, 2, 2, 2, 2, 2,\n",
       "       2, 2, 2, 2, 2, 2, 2, 2, 2, 2, 2, 2, 2, 2, 2, 2])"
      ]
     },
     "execution_count": 6,
     "metadata": {},
     "output_type": "execute_result"
    }
   ],
   "source": [
    "y_encoded"
   ]
  },
  {
   "cell_type": "code",
   "execution_count": 7,
   "id": "0e11c977",
   "metadata": {
    "execution": {
     "iopub.execute_input": "2024-03-29T06:31:25.314651Z",
     "iopub.status.busy": "2024-03-29T06:31:25.314387Z",
     "iopub.status.idle": "2024-03-29T06:31:25.321556Z",
     "shell.execute_reply": "2024-03-29T06:31:25.320863Z"
    },
    "papermill": {
     "duration": 0.018686,
     "end_time": "2024-03-29T06:31:25.323655",
     "exception": false,
     "start_time": "2024-03-29T06:31:25.304969",
     "status": "completed"
    },
    "tags": []
   },
   "outputs": [],
   "source": [
    "X_train, X_temp, y_train, y_temp = train_test_split(X_spectrograms, y_categorical, test_size=0.2, random_state=42)\n",
    "X_val, X_test, y_val, y_test = train_test_split(X_temp, y_temp, test_size=0.5, random_state=42)"
   ]
  },
  {
   "cell_type": "code",
   "execution_count": 8,
   "id": "244bf5a2",
   "metadata": {
    "execution": {
     "iopub.execute_input": "2024-03-29T06:31:25.341887Z",
     "iopub.status.busy": "2024-03-29T06:31:25.341625Z",
     "iopub.status.idle": "2024-03-29T06:31:26.219242Z",
     "shell.execute_reply": "2024-03-29T06:31:26.217837Z"
    },
    "papermill": {
     "duration": 0.888505,
     "end_time": "2024-03-29T06:31:26.220838",
     "exception": true,
     "start_time": "2024-03-29T06:31:25.332333",
     "status": "failed"
    },
    "tags": []
   },
   "outputs": [
    {
     "ename": "AttributeError",
     "evalue": "'list' object has no attribute 'shape'",
     "output_type": "error",
     "traceback": [
      "\u001b[0;31m---------------------------------------------------------------------------\u001b[0m",
      "\u001b[0;31mAttributeError\u001b[0m                            Traceback (most recent call last)",
      "Cell \u001b[0;32mIn[8], line 1\u001b[0m\n\u001b[0;32m----> 1\u001b[0m \u001b[38;5;28mprint\u001b[39m(\u001b[43mX_train\u001b[49m\u001b[38;5;241;43m.\u001b[39;49m\u001b[43mshape\u001b[49m,)\n",
      "\u001b[0;31mAttributeError\u001b[0m: 'list' object has no attribute 'shape'"
     ]
    }
   ],
   "source": [
    "print(X_train.shape,)"
   ]
  },
  {
   "cell_type": "code",
   "execution_count": null,
   "id": "454568e2",
   "metadata": {
    "papermill": {
     "duration": null,
     "end_time": null,
     "exception": null,
     "start_time": null,
     "status": "pending"
    },
    "tags": []
   },
   "outputs": [],
   "source": [
    "spectrogram.shape"
   ]
  },
  {
   "cell_type": "code",
   "execution_count": null,
   "id": "684a7829",
   "metadata": {
    "papermill": {
     "duration": null,
     "end_time": null,
     "exception": null,
     "start_time": null,
     "status": "pending"
    },
    "tags": []
   },
   "outputs": [],
   "source": [
    "\n",
    "X_train = np.expand_dims(X_train, axis=-1)\n",
    "X_val = np.expand_dims(X_val, axis=-1)\n",
    "X_test = np.expand_dims(X_test, axis=-1)\n",
    "\n"
   ]
  },
  {
   "cell_type": "code",
   "execution_count": null,
   "id": "1c27426b",
   "metadata": {
    "papermill": {
     "duration": null,
     "end_time": null,
     "exception": null,
     "start_time": null,
     "status": "pending"
    },
    "tags": []
   },
   "outputs": [],
   "source": [
    "model = models.Sequential()\n",
    "model.add(layers.Conv2D(32, (3, 3), activation='relu', input_shape=(X_train[0].shape)))\n",
    "model.add(layers.MaxPooling2D((2, 2)))\n",
    "model.add(layers.Conv2D(64, (3, 3), activation='relu'))\n",
    "model.add(layers.MaxPooling2D((2, 2)))\n",
    "model.add(layers.Conv2D(128, (3, 3), activation='relu'))\n",
    "model.add(layers.MaxPooling2D((2, 2)))\n",
    "model.add(layers.Flatten())\n",
    "model.add(layers.Dense(128, activation='relu'))\n",
    "model.add(layers.Dense(3, activation='softmax'))\n"
   ]
  },
  {
   "cell_type": "code",
   "execution_count": null,
   "id": "6c897026",
   "metadata": {
    "papermill": {
     "duration": null,
     "end_time": null,
     "exception": null,
     "start_time": null,
     "status": "pending"
    },
    "tags": []
   },
   "outputs": [],
   "source": [
    "model.compile(optimizer='adam',\n",
    "              loss='categorical_crossentropy',\n",
    "              metrics=['accuracy'])"
   ]
  },
  {
   "cell_type": "code",
   "execution_count": null,
   "id": "d98123f0",
   "metadata": {
    "papermill": {
     "duration": null,
     "end_time": null,
     "exception": null,
     "start_time": null,
     "status": "pending"
    },
    "tags": []
   },
   "outputs": [],
   "source": [
    "model.fit(np.array(X_train), np.array(y_train), epochs=30, batch_size=32, validation_data=(np.array(X_val), np.array(y_val)))\n",
    "test_loss, test_acc = model.evaluate(np.array(X_test), np.array(y_test))\n",
    "print(test_acc)\n"
   ]
  },
  {
   "cell_type": "code",
   "execution_count": null,
   "id": "f3e879eb",
   "metadata": {
    "papermill": {
     "duration": null,
     "end_time": null,
     "exception": null,
     "start_time": null,
     "status": "pending"
    },
    "tags": []
   },
   "outputs": [],
   "source": []
  },
  {
   "cell_type": "markdown",
   "id": "013e4e6c",
   "metadata": {
    "papermill": {
     "duration": null,
     "end_time": null,
     "exception": null,
     "start_time": null,
     "status": "pending"
    },
    "tags": []
   },
   "source": [
    "# C1"
   ]
  },
  {
   "cell_type": "code",
   "execution_count": null,
   "id": "9e2695fd",
   "metadata": {
    "execution": {
     "iopub.execute_input": "2024-03-28T19:37:18.523864Z",
     "iopub.status.busy": "2024-03-28T19:37:18.523457Z",
     "iopub.status.idle": "2024-03-28T19:37:18.957329Z",
     "shell.execute_reply": "2024-03-28T19:37:18.956090Z",
     "shell.execute_reply.started": "2024-03-28T19:37:18.523833Z"
    },
    "papermill": {
     "duration": null,
     "end_time": null,
     "exception": null,
     "start_time": null,
     "status": "pending"
    },
    "tags": []
   },
   "outputs": [],
   "source": [
    "    import matplotlib.pyplot as plt\n",
    "\n",
    "    # Assuming the necessary imports and definitions for stft and wavfile.read are done\n",
    "\n",
    "    file_path = \"/kaggle/input/class-cv-lungs/ICBHI/COPD/107_2b3_Ar_mc_AKGC417L_1.wav\"\n",
    "    sample_rate, data = wavfile.read(file_path)\n",
    "\n",
    "    freq, times, stft_data = stft(data, fs=sample_rate, nperseg=400, noverlap=200)  # Adjust nperseg and noverlap as needed\n",
    "    # print(type(stft_data))\n",
    "    print(stft_data.dtype)\n",
    "    plotData = np.abs(stft_data.real).astype(int)\n",
    "    # Normalize the magnitude of STFT\n",
    "    new_stft = np.abs(stft_data)\n",
    "    new_stft /= np.max(new_stft)\n",
    "    x = new_stft[0:70,:]\n",
    "#     Plot the spectrogram\n",
    "    plt.figure(figsize=(10, 6))\n",
    "    plt.imshow(x, aspect='auto', origin='lower', cmap='viridis')\n",
    "    plt.colorbar(label='Magnitude')\n",
    "    plt.xlabel('Time')\n",
    "    plt.ylabel('Frequency')\n",
    "    plt.title('COPD Spectrogram')\n",
    "\n",
    "    plt.show()\n"
   ]
  },
  {
   "cell_type": "code",
   "execution_count": null,
   "id": "ee60be8a",
   "metadata": {
    "papermill": {
     "duration": null,
     "end_time": null,
     "exception": null,
     "start_time": null,
     "status": "pending"
    },
    "tags": []
   },
   "outputs": [],
   "source": []
  },
  {
   "cell_type": "code",
   "execution_count": null,
   "id": "9851d493",
   "metadata": {
    "execution": {
     "iopub.execute_input": "2024-03-28T19:37:30.544596Z",
     "iopub.status.busy": "2024-03-28T19:37:30.543937Z",
     "iopub.status.idle": "2024-03-28T19:37:30.846451Z",
     "shell.execute_reply": "2024-03-28T19:37:30.845548Z",
     "shell.execute_reply.started": "2024-03-28T19:37:30.544564Z"
    },
    "papermill": {
     "duration": null,
     "end_time": null,
     "exception": null,
     "start_time": null,
     "status": "pending"
    },
    "tags": []
   },
   "outputs": [],
   "source": [
    "    import matplotlib.pyplot as plt\n",
    "\n",
    "    # Assuming the necessary imports and definitions for stft and wavfile.read are done\n",
    "\n",
    "    file_path = \"/kaggle/input/class-cv-lungs/ICBHI/Healthy/144_1b1_Tc_sc_Meditron_2.wav\"\n",
    "    sample_rate, data = wavfile.read(file_path)\n",
    "\n",
    "    freq, times, stft_data = stft(data, fs=sample_rate, nperseg=400, noverlap=100)  # Adjust nperseg and noverlap as needed\n",
    "    # print(type(stft_data))\n",
    "#     print(stft_data.dtype)\n",
    "\n",
    "    plotData = np.abs(stft_data.real).astype(int)\n",
    "#     plotData = stft_data.astype(int)\n",
    "\n",
    "    # Normalize the magnitude of STFT\n",
    "    new_stft = np.abs(stft_data)\n",
    "    new_stft /= np.max(new_stft)\n",
    "    x = new_stft[0:70,:]\n",
    "#     Plot the spectrogram\n",
    "    plt.figure(figsize=(10, 6))\n",
    "    plt.imshow(x, aspect='auto', origin='lower', cmap='viridis')\n",
    "    plt.colorbar(label='Magnitude')\n",
    "    plt.xlabel('Time')\n",
    "    plt.ylabel('Frequency')\n",
    "    plt.title('HEALTHY Spectrogram')\n",
    "    plt.show()\n"
   ]
  },
  {
   "cell_type": "code",
   "execution_count": null,
   "id": "c05722f0",
   "metadata": {
    "execution": {
     "iopub.execute_input": "2024-03-28T19:35:18.160583Z",
     "iopub.status.busy": "2024-03-28T19:35:18.160193Z",
     "iopub.status.idle": "2024-03-28T19:35:18.166596Z",
     "shell.execute_reply": "2024-03-28T19:35:18.165605Z",
     "shell.execute_reply.started": "2024-03-28T19:35:18.160554Z"
    },
    "papermill": {
     "duration": null,
     "end_time": null,
     "exception": null,
     "start_time": null,
     "status": "pending"
    },
    "tags": []
   },
   "outputs": [],
   "source": [
    "x[60,20]"
   ]
  },
  {
   "cell_type": "code",
   "execution_count": null,
   "id": "bb2078e8",
   "metadata": {
    "execution": {
     "iopub.execute_input": "2024-03-28T19:37:43.589259Z",
     "iopub.status.busy": "2024-03-28T19:37:43.588416Z",
     "iopub.status.idle": "2024-03-28T19:37:43.895049Z",
     "shell.execute_reply": "2024-03-28T19:37:43.894092Z",
     "shell.execute_reply.started": "2024-03-28T19:37:43.589226Z"
    },
    "papermill": {
     "duration": null,
     "end_time": null,
     "exception": null,
     "start_time": null,
     "status": "pending"
    },
    "tags": []
   },
   "outputs": [],
   "source": [
    "    import matplotlib.pyplot as plt\n",
    "\n",
    "    # Assuming the necessary imports and definitions for stft and wavfile.read are done\n",
    "\n",
    "    file_path = \"/kaggle/input/class-cv-lungs/ICBHI/Pneumonia/122_2b2_Tc_mc_LittC2SE_2.wav\"\n",
    "    sample_rate, data = wavfile.read(file_path)\n",
    "\n",
    "    freq, times, stft_data = stft(data, fs=sample_rate, nperseg=400, noverlap=100)  # Adjust nperseg and noverlap as needed\n",
    "    # print(type(stft_data))\n",
    "#     print(stft_data.dtype)\n",
    "\n",
    "\n",
    "#     plotData = stft_data.astype(int)\n",
    "\n",
    "    # Normalize the magnitude of STFT\n",
    "    new_stft = np.abs(stft_data)\n",
    "    new_stft /= np.max(new_stft)\n",
    "    x = new_stft[0:70,:]\n",
    "#     Plot the spectrogram\n",
    "    plt.figure(figsize=(10, 6))\n",
    "    plt.imshow(x, aspect='auto', origin='lower', cmap='viridis')\n",
    "    plt.colorbar(label='Magnitude')\n",
    "    plt.xlabel('Time')\n",
    "    plt.ylabel('Frequency')\n",
    "    plt.title('PNEUMONIA Spectrogram')\n",
    "    plt.show()\n"
   ]
  },
  {
   "cell_type": "code",
   "execution_count": null,
   "id": "55a4ca15",
   "metadata": {
    "execution": {
     "iopub.execute_input": "2024-03-28T18:53:14.889545Z",
     "iopub.status.busy": "2024-03-28T18:53:14.888757Z",
     "iopub.status.idle": "2024-03-28T18:53:24.268602Z",
     "shell.execute_reply": "2024-03-28T18:53:24.267740Z",
     "shell.execute_reply.started": "2024-03-28T18:53:14.889513Z"
    },
    "papermill": {
     "duration": null,
     "end_time": null,
     "exception": null,
     "start_time": null,
     "status": "pending"
    },
    "tags": []
   },
   "outputs": [],
   "source": [
    "import os\n",
    "import numpy as np\n",
    "import tensorflow as tf\n",
    "from tensorflow.keras import layers, models\n",
    "from sklearn.model_selection import train_test_split\n",
    "from sklearn.preprocessing import LabelEncoder\n",
    "from tensorflow.keras.utils import to_categorical\n",
    "from scipy.io import wavfile\n",
    "from scipy.signal import stft\n",
    "from pathlib import Path\n",
    "from scipy.signal import resample\n",
    "\n",
    "\n",
    "def load_and_process_wav(file_path):\n",
    "    sample_rate, data = wavfile.read(file_path)\n",
    "#     print(sample_rate)\n",
    "    new_sample_rate = 3500\n",
    "    resampled_data = resample(data, int(len(data) * (new_sample_rate / sample_rate)))\n",
    "\n",
    "    freq, times, stft_data = stft(resampled_data, fs=sample_rate, nperseg=400, noverlap=200)  \n",
    "#     Normalize the magnitude of STFT\n",
    "    new_stft = np.abs(stft_data)\n",
    "    new_stft /= np.max(new_stft)\n",
    "    return new_stft\n",
    "\n",
    "\n",
    "paths = [\n",
    "    r\"/kaggle/input/class-cv-lungs/ICBHI/COPD\",\n",
    "    r\"/kaggle/input/class-cv-lungs/ICBHI/Healthy\",\n",
    "    r\"/kaggle/input/class-cv-lungs/ICBHI/Pneumonia\"\n",
    "]\n",
    "\n",
    "\n",
    "X_spectrograms = []\n",
    "labels = []\n",
    "\n",
    "\n",
    "for path in paths:\n",
    "    base_path = Path(path)\n",
    "    \n",
    "    \n",
    "    if path == r\"/kaggle/input/class-cv-lungs/ICBHI/COPD\":\n",
    "        label = 'COPD'\n",
    "    elif path == r\"/kaggle/input/class-cv-lungs/ICBHI/Healthy\":\n",
    "        label = 'Healthy'\n",
    "    elif path == r\"/kaggle/input/class-cv-lungs/ICBHI/Pneumonia\":\n",
    "        label = 'Pneumonia'\n",
    "    \n",
    "    \n",
    "    for wav_file_path in base_path.glob(\"*.wav\"):\n",
    "\n",
    "        spectrogram = load_and_process_wav(wav_file_path)\n",
    "        X_spectrograms.append(spectrogram)\n",
    "        labels.append(label)\n",
    "\n",
    "        \n",
    "label_encoder = LabelEncoder()\n",
    "y_encoded = label_encoder.fit_transform(labels)\n",
    "y_categorical = to_categorical(y_encoded)\n",
    "\n",
    "\n",
    "X_train, X_temp, y_train, y_temp = train_test_split(X_spectrograms, y_categorical, test_size=0.2, random_state=42)\n",
    "X_val, X_test, y_val, y_test = train_test_split(X_temp, y_temp, test_size=0.5, random_state=42)\n",
    "\n",
    "\n",
    "# instead of giving the dims of input as ( input shape , 1 ) in the cnn model directly, \n",
    "# we will add another auxillary dimension in the array itself\n",
    "\n",
    "X_train = np.expand_dims(X_train, axis=-1)\n",
    "X_val = np.expand_dims(X_val, axis=-1)\n",
    "X_test = np.expand_dims(X_test, axis=-1)\n",
    "\n",
    "model = models.Sequential()\n",
    "model.add(layers.Conv2D(32, (3, 3), activation='relu', input_shape=(X_train[0].shape)))\n",
    "model.add(layers.MaxPooling2D((2, 2)))\n",
    "model.add(layers.Conv2D(64, (3, 3), activation='relu'))\n",
    "model.add(layers.MaxPooling2D((2, 2)))\n",
    "model.add(layers.Conv2D(128, (3, 3), activation='relu'))\n",
    "model.add(layers.MaxPooling2D((2, 2)))\n",
    "model.add(layers.Flatten())\n",
    "model.add(layers.Dense(128, activation='relu'))\n",
    "model.add(layers.Dense(3, activation='softmax'))\n",
    "\n",
    "\n",
    "model.compile(optimizer='adam',\n",
    "              loss='categorical_crossentropy',\n",
    "              metrics=['accuracy'])\n",
    "\n",
    "\n",
    "model.fit(np.array(X_train), np.array(y_train), epochs=30, batch_size=32, validation_data=(np.array(X_val), np.array(y_val)))\n",
    "test_loss, test_acc = model.evaluate(np.array(X_test), np.array(y_test))\n",
    "print(test_acc)\n",
    "\n"
   ]
  },
  {
   "cell_type": "markdown",
   "id": "3ec51b94",
   "metadata": {
    "papermill": {
     "duration": null,
     "end_time": null,
     "exception": null,
     "start_time": null,
     "status": "pending"
    },
    "tags": []
   },
   "source": [
    "# C1 with tuning"
   ]
  },
  {
   "cell_type": "code",
   "execution_count": null,
   "id": "26f3e85d",
   "metadata": {
    "execution": {
     "iopub.execute_input": "2024-03-29T05:51:50.314143Z",
     "iopub.status.busy": "2024-03-29T05:51:50.313762Z",
     "iopub.status.idle": "2024-03-29T05:51:50.321904Z",
     "shell.execute_reply": "2024-03-29T05:51:50.320775Z",
     "shell.execute_reply.started": "2024-03-29T05:51:50.314113Z"
    },
    "papermill": {
     "duration": null,
     "end_time": null,
     "exception": null,
     "start_time": null,
     "status": "pending"
    },
    "tags": []
   },
   "outputs": [],
   "source": [
    "import os\n",
    "import numpy as np\n",
    "import tensorflow as tf\n",
    "from tensorflow.keras import layers, models\n",
    "from sklearn.model_selection import train_test_split\n",
    "from sklearn.preprocessing import LabelEncoder\n",
    "from tensorflow.keras.utils import to_categorical\n",
    "from scipy.io import wavfile\n",
    "from scipy.signal import stft\n",
    "from pathlib import Path\n",
    "import keras_tuner\n",
    "\n",
    "\n",
    "import matplotlib.pyplot as plt\n",
    "import numpy as np\n",
    "import tensorflow as tf\n",
    "from tensorflow import keras\n",
    "from keras.models import Sequential\n",
    "from keras.layers import Dense, Dropout\n",
    "from keras.optimizers import SGD,Adam,Nadam\n",
    "from keras import layers\n",
    "from keras_tuner import RandomSearch,GridSearch,BayesianOptimization\n",
    "# extra\n",
    "from keras.layers import Conv1D, MaxPooling1D, Flatten, Dense,AveragePooling1D\n",
    "\n",
    "\n",
    "# Load sound file\n",
    "# sample_rate, data = wav.read('/kaggle/input/copd-class-cv/COPD/106_2b1_Pl_mc_LittC2SE_1.wav')"
   ]
  },
  {
   "cell_type": "code",
   "execution_count": null,
   "id": "22a5425c",
   "metadata": {
    "execution": {
     "iopub.execute_input": "2024-03-29T05:50:09.414255Z",
     "iopub.status.busy": "2024-03-29T05:50:09.413913Z",
     "iopub.status.idle": "2024-03-29T05:50:09.419825Z",
     "shell.execute_reply": "2024-03-29T05:50:09.418894Z",
     "shell.execute_reply.started": "2024-03-29T05:50:09.414223Z"
    },
    "papermill": {
     "duration": null,
     "end_time": null,
     "exception": null,
     "start_time": null,
     "status": "pending"
    },
    "tags": []
   },
   "outputs": [],
   "source": [
    "def load_and_process_wav(file_path):\n",
    "    sample_rate, data = wavfile.read(file_path)\n",
    "    \n",
    "    freq, times, stft_data = stft(data, fs=sample_rate, nperseg=400, noverlap=200)  \n",
    "    # Normalize the magnitude of STFT\n",
    "    new_stft = np.abs(stft_data)\n",
    "    new_stft /= np.max(new_stft)\n",
    "    return new_stft"
   ]
  },
  {
   "cell_type": "code",
   "execution_count": null,
   "id": "011bd0ce",
   "metadata": {
    "execution": {
     "iopub.execute_input": "2024-03-29T05:50:09.927207Z",
     "iopub.status.busy": "2024-03-29T05:50:09.926440Z",
     "iopub.status.idle": "2024-03-29T05:50:09.931617Z",
     "shell.execute_reply": "2024-03-29T05:50:09.930358Z",
     "shell.execute_reply.started": "2024-03-29T05:50:09.927176Z"
    },
    "papermill": {
     "duration": null,
     "end_time": null,
     "exception": null,
     "start_time": null,
     "status": "pending"
    },
    "tags": []
   },
   "outputs": [],
   "source": [
    "paths = [\n",
    "    r\"/kaggle/input/class-cv-lungs/ICBHI/COPD\",\n",
    "    r\"/kaggle/input/class-cv-lungs/ICBHI/Healthy\",\n",
    "    r\"/kaggle/input/class-cv-lungs/ICBHI/Pneumonia\"\n",
    "]"
   ]
  },
  {
   "cell_type": "code",
   "execution_count": null,
   "id": "d5ccb43b",
   "metadata": {
    "execution": {
     "iopub.execute_input": "2024-03-29T05:50:10.389280Z",
     "iopub.status.busy": "2024-03-29T05:50:10.388949Z",
     "iopub.status.idle": "2024-03-29T05:50:10.856959Z",
     "shell.execute_reply": "2024-03-29T05:50:10.855941Z",
     "shell.execute_reply.started": "2024-03-29T05:50:10.389256Z"
    },
    "papermill": {
     "duration": null,
     "end_time": null,
     "exception": null,
     "start_time": null,
     "status": "pending"
    },
    "tags": []
   },
   "outputs": [],
   "source": [
    "X_spectrograms = []\n",
    "labels = []\n",
    "\n",
    "\n",
    "for path in paths:\n",
    "    base_path = Path(path)\n",
    "    \n",
    "    \n",
    "    if path == r\"/kaggle/input/class-cv-lungs/ICBHI/COPD\":\n",
    "        label = 'COPD'\n",
    "    elif path == r\"/kaggle/input/class-cv-lungs/ICBHI/Healthy\":\n",
    "        label = 'Healthy'\n",
    "    elif path == r\"/kaggle/input/class-cv-lungs/ICBHI/Pneumonia\":\n",
    "        label = 'Pneumonia'\n",
    "    \n",
    "    \n",
    "    for wav_file_path in base_path.glob(\"*.wav\"):\n",
    "        # Load and process .wav file\n",
    "        spectrogram = load_and_process_wav(wav_file_path)\n",
    "        X_spectrograms.append(spectrogram)\n",
    "        labels.append(label)"
   ]
  },
  {
   "cell_type": "code",
   "execution_count": null,
   "id": "731d23ed",
   "metadata": {
    "execution": {
     "iopub.execute_input": "2024-03-29T05:50:10.858803Z",
     "iopub.status.busy": "2024-03-29T05:50:10.858478Z",
     "iopub.status.idle": "2024-03-29T05:50:10.864627Z",
     "shell.execute_reply": "2024-03-29T05:50:10.863593Z",
     "shell.execute_reply.started": "2024-03-29T05:50:10.858779Z"
    },
    "papermill": {
     "duration": null,
     "end_time": null,
     "exception": null,
     "start_time": null,
     "status": "pending"
    },
    "tags": []
   },
   "outputs": [],
   "source": [
    "label_encoder = LabelEncoder()\n",
    "y_encoded = label_encoder.fit_transform(labels)\n",
    "y_categorical = to_categorical(y_encoded)"
   ]
  },
  {
   "cell_type": "code",
   "execution_count": null,
   "id": "13a53fcb",
   "metadata": {
    "execution": {
     "iopub.execute_input": "2024-03-29T05:50:11.169458Z",
     "iopub.status.busy": "2024-03-29T05:50:11.169102Z",
     "iopub.status.idle": "2024-03-29T05:50:11.214055Z",
     "shell.execute_reply": "2024-03-29T05:50:11.213105Z",
     "shell.execute_reply.started": "2024-03-29T05:50:11.169428Z"
    },
    "papermill": {
     "duration": null,
     "end_time": null,
     "exception": null,
     "start_time": null,
     "status": "pending"
    },
    "tags": []
   },
   "outputs": [],
   "source": [
    "X_train, X_temp, y_train, y_temp = train_test_split(X_spectrograms, y_categorical, test_size=0.2, random_state=42)\n",
    "X_val, X_test, y_val, y_test = train_test_split(X_temp, y_temp, test_size=0.5, random_state=42)\n",
    "\n",
    "X_train = np.expand_dims(X_train, axis=-1)\n",
    "X_val = np.expand_dims(X_val, axis=-1)\n",
    "X_test = np.expand_dims(X_test, axis=-1)"
   ]
  },
  {
   "cell_type": "code",
   "execution_count": null,
   "id": "ac954228",
   "metadata": {
    "papermill": {
     "duration": null,
     "end_time": null,
     "exception": null,
     "start_time": null,
     "status": "pending"
    },
    "tags": []
   },
   "outputs": [],
   "source": []
  },
  {
   "cell_type": "code",
   "execution_count": null,
   "id": "a65e6e9a",
   "metadata": {
    "execution": {
     "iopub.execute_input": "2024-03-29T05:50:12.316058Z",
     "iopub.status.busy": "2024-03-29T05:50:12.315389Z",
     "iopub.status.idle": "2024-03-29T05:50:12.326186Z",
     "shell.execute_reply": "2024-03-29T05:50:12.325063Z",
     "shell.execute_reply.started": "2024-03-29T05:50:12.316025Z"
    },
    "papermill": {
     "duration": null,
     "end_time": null,
     "exception": null,
     "start_time": null,
     "status": "pending"
    },
    "tags": []
   },
   "outputs": [],
   "source": [
    "def build_model(hp):\n",
    "    hp_neurons = hp.Int('neurons', min_value=32, max_value=512, step=64)\n",
    "    hp_filters = hp.Int('filters', min_value=32, max_value=512, step=64)\n",
    "\n",
    "    model = models.Sequential()\n",
    "    model.add(layers.Conv2D(32, (3, 3), activation='relu', input_shape=(X_train[0].shape)))\n",
    "    model.add(layers.MaxPooling2D((2, 2)))\n",
    "    model.add(layers.Conv2D(64, (3, 3), activation='relu'))\n",
    "    model.add(layers.MaxPooling2D((2, 2)))\n",
    "    model.add(layers.Conv2D(128, (3, 3), activation='relu'))\n",
    "    model.add(layers.MaxPooling2D((2, 2)))\n",
    "    model.add(layers.Flatten())\n",
    "    model.add(layers.Dense(128, activation='relu'))\n",
    "    model.add(layers.Dense(3, activation='softmax'))\n",
    "\n",
    "#   Tune learning rate and batch size\n",
    "    hp_learning_rate = hp.Choice('learning_rate', values=[0.01,0.0025, 0.001, 0.015])\n",
    "    hp_batch_size = hp.Choice('batch_size', values=[2,4,16,32,64])\n",
    "    # Compile the model\n",
    "    model.compile(optimizer=keras.optimizers.Adam(learning_rate=hp_learning_rate),\n",
    "    loss='categorical_crossentropy',\n",
    "    metrics=['accuracy'])\n",
    "\n",
    "    return model"
   ]
  },
  {
   "cell_type": "code",
   "execution_count": null,
   "id": "5a86684a",
   "metadata": {
    "execution": {
     "iopub.execute_input": "2024-03-29T05:52:18.474321Z",
     "iopub.status.busy": "2024-03-29T05:52:18.473522Z",
     "iopub.status.idle": "2024-03-29T05:52:19.311103Z",
     "shell.execute_reply": "2024-03-29T05:52:19.309815Z",
     "shell.execute_reply.started": "2024-03-29T05:52:18.474289Z"
    },
    "papermill": {
     "duration": null,
     "end_time": null,
     "exception": null,
     "start_time": null,
     "status": "pending"
    },
    "tags": []
   },
   "outputs": [],
   "source": [
    "tuner = RandomSearch(\n",
    "                         build_model,\n",
    "                         objective='val_accuracy',\n",
    "                         max_trials=3,\n",
    "                         executions_per_trial=2,\n",
    "                         directory='',\n",
    "                         project_name='heartbeat_tuning_random'\n",
    "                )\n",
    "\n",
    "\n",
    "hp_batch_size = tuner.oracle.get_space()['batch_size']\n",
    "tuner.search(tf.convert_to_tensor(X_train), tf.convert_to_tensor(y_categorical), epochs=5, validation_data=(X_test, encoded_test), batch_size=hp_batch_size)\n"
   ]
  },
  {
   "cell_type": "code",
   "execution_count": null,
   "id": "e8f2d5a6",
   "metadata": {
    "execution": {
     "iopub.execute_input": "2024-03-29T06:27:15.848183Z",
     "iopub.status.busy": "2024-03-29T06:27:15.847465Z",
     "iopub.status.idle": "2024-03-29T06:27:25.551498Z",
     "shell.execute_reply": "2024-03-29T06:27:25.550599Z",
     "shell.execute_reply.started": "2024-03-29T06:27:15.848150Z"
    },
    "papermill": {
     "duration": null,
     "end_time": null,
     "exception": null,
     "start_time": null,
     "status": "pending"
    },
    "tags": []
   },
   "outputs": [],
   "source": [
    "import tensorflow as tf\n",
    "from tensorflow import keras\n",
    "from tensorflow.keras import layers\n",
    "from kerastuner.tuners import RandomSearch\n",
    "from sklearn.model_selection import train_test_split\n",
    "\n",
    "\n",
    "def build_model(hp):\n",
    "    model = models.Sequential()\n",
    "    model.add(layers.Conv2D(32, (3, 3), activation='relu', input_shape=(X_train[0].shape)))\n",
    "    model.add(layers.MaxPooling2D((2, 2)))\n",
    "    model.add(layers.Conv2D(64, (3, 3), activation='relu'))\n",
    "    model.add(layers.MaxPooling2D((2, 2)))\n",
    "    model.add(layers.Conv2D(128, (3, 3), activation='relu'))\n",
    "    model.add(layers.MaxPooling2D((2, 2)))\n",
    "    model.add(layers.Flatten())\n",
    "    model.add(layers.Dense(128, activation='relu'))\n",
    "    model.add(layers.Dense(3, activation='softmax'))\n",
    "\n",
    "    \n",
    "#     hp_learning_rate = hp.Choice('learning_rate', values=[0.01,0.0025, 0.001, 0.015])\n",
    "    hp_learning_rate = hp.Choice('learning_rate', values=[1e-2, 1e-3, 1e-4])\n",
    "    hp_batch_size = hp.Choice('batch_size', values=[2,4,16,32,64])\n",
    "     \n",
    "    model.compile(optimizer=keras.optimizers.Adam(learning_rate=hp_learning_rate),\n",
    "              loss='categorical_crossentropy',\n",
    "              metrics=['accuracy'])\n",
    "\n",
    "    return model\n",
    "\n",
    "\n",
    "\n",
    "\n",
    "X_train, X_temp, y_train, y_temp = train_test_split(X_spectrograms, y_categorical, test_size=0.2, random_state=42)\n",
    "X_val, X_test, y_val, y_test = train_test_split(X_temp, y_temp, test_size=0.5, random_state=42)\n",
    "\n",
    "X_train = np.expand_dims(X_train, axis=-1)\n",
    "X_val = np.expand_dims(X_val, axis=-1)\n",
    "X_test = np.expand_dims(X_test, axis=-1)\n",
    " \n",
    "tuner = RandomSearch(\n",
    "  build_model,\n",
    "  objective='val_accuracy',\n",
    "  max_trials=1,   \n",
    "  executions_per_trial=1,\n",
    "  directory='my_dir',\n",
    "  project_name='cnn_tuning')\n",
    "\n",
    " \n",
    "tuner.search(tf.convert_to_tensor(X_train), tf.convert_to_tensor(y_train), epochs=10, validation_data=(X_val, y_val))\n",
    "\n",
    "best_hps = tuner.get_best_hyperparameters(num_trials=1)[0]\n",
    "\n",
    "model = tuner.hypermodel.build(best_hps)\n",
    "history = model.fit(X_train, y_train, epochs=30, validation_data=(X_val, y_val))\n",
    "\n",
    "test_loss, test_acc = model.evaluate(X_test, y_test)\n",
    "\n",
    "print('Test accuracy:', test_acc)\n"
   ]
  },
  {
   "cell_type": "code",
   "execution_count": null,
   "id": "e61115f8",
   "metadata": {
    "execution": {
     "iopub.execute_input": "2024-03-29T06:25:20.643946Z",
     "iopub.status.busy": "2024-03-29T06:25:20.643072Z",
     "iopub.status.idle": "2024-03-29T06:25:21.025565Z",
     "shell.execute_reply": "2024-03-29T06:25:21.024136Z",
     "shell.execute_reply.started": "2024-03-29T06:25:20.643915Z"
    },
    "papermill": {
     "duration": null,
     "end_time": null,
     "exception": null,
     "start_time": null,
     "status": "pending"
    },
    "tags": []
   },
   "outputs": [],
   "source": [
    "import tensorflow as tf\n",
    "from tensorflow import keras\n",
    "from tensorflow.keras import layers\n",
    "from kerastuner.tuners import RandomSearch\n",
    "from sklearn.model_selection import train_test_split\n",
    "\n",
    "# Assuming you have X_spectrograms and y_categorical already defined\n",
    "\n",
    "def build_model(hp):\n",
    "    model = keras.Sequential()\n",
    "\n",
    "    # Ensure X_train is a NumPy array\n",
    "    X_train = np.asarray(X_train)\n",
    "\n",
    "    # Validate input shape (optional)\n",
    "    if X_train.shape[-1] < 1:\n",
    "        raise ValueError(\"X_train must have at least 1 channel (grayscale) or 3 channels (RGB)\")\n",
    "\n",
    "    # Tune the number of filters for the first Conv2D layer\n",
    "    hp_filters1 = hp.Int('filters1', min_value=16, max_value=64, step=16)\n",
    "    model.add(layers.Conv2D(hp_filters1, (3, 3), activation='relu', input_shape=X_train.shape[1:]))\n",
    "    model.add(layers.MaxPooling2D((2, 2)))\n",
    "\n",
    "    # Tune the number of filters for the second Conv2D layer\n",
    "    hp_filters2 = hp.Int('filters2', min_value=32, max_value=128, step=32)\n",
    "    model.add(layers.Conv2D(hp_filters2, (3, 3), activation='relu'))\n",
    "    model.add(layers.MaxPooling2D((2, 2)))\n",
    "\n",
    "    # Tune the number of filters for the third Conv2D layer\n",
    "    hp_filters3 = hp.Int('filters3', min_value=64, max_value=256, step=64)\n",
    "    model.add(layers.Conv2D(hp_filters3, (3, 3), activation='relu'))\n",
    "    model.add(layers.MaxPooling2D((2, 2)))\n",
    "\n",
    "    model.add(layers.Flatten())\n",
    "\n",
    "    # Tune the number of units for the first Dense layer\n",
    "    hp_units1 = hp.Int('units1', min_value=64, max_value=256, step=64)\n",
    "    model.add(layers.Dense(hp_units1, activation='relu'))\n",
    "\n",
    "    # Add a final Dense layer with the number of classes (assuming 3 classes)\n",
    "    model.add(layers.Dense(3, activation='softmax'))  # 3 for 3 classes\n",
    "\n",
    "    # Tune the learning rate for the optimizer\n",
    "    hp_learning_rate = hp.Choice('learning_rate', values=[1e-2, 1e-3, 1e-4])\n",
    "\n",
    "    model.compile(optimizer=keras.optimizers.Adam(learning_rate=hp_learning_rate),\n",
    "                loss=keras.losses.SparseCategoricalCrossentropy(),\n",
    "                metrics=['accuracy'])\n",
    "\n",
    "    return model\n",
    "\n",
    "# Split the data into train and validation sets\n",
    "X_train, X_val, y_train, y_val = train_test_split(X_spectrograms, y_categorical, test_size=0.2, random_state=42)\n",
    "\n",
    "# No need to expand dimensions here (already done when defining X_train)\n",
    "\n",
    "# Define the tuner with more trials and executions for a more robust search\n",
    "tuner = RandomSearch(\n",
    "  build_model,\n",
    "  objective='val_accuracy',\n",
    "  max_trials=10,  # Increased trials for better hyperparameter exploration\n",
    "  executions_per_trial=3,  # Increased executions for more reliable results\n",
    "  directory='my_dir',\n",
    "  project_name='cnn_tuning')\n",
    "\n",
    "# Start the hyperparameter search\n",
    "tuner.search(X_train, y_train, epochs=10, validation_data=(X_val, y_val))\n",
    "\n",
    "# Get the best hyperparameters\n",
    "best_hps = tuner.get_best_hyperparameters(num_trials=1)[0]\n",
    "\n",
    "# Build the model with the best hyperparameters\n",
    "model = tuner.hypermodel.build(best_hps)\n",
    "\n",
    "# Train the model with early stopping (consider adding for potential improvement)\n",
    "early_stopping = tf.keras.callbacks.EarlyStopping(monitor='val_loss', patience=3)\n",
    "history = model.fit(X_train, y_train, epochs=30, validation_data=(X_val, y_val), callbacks=[early_stopping])\n",
    "\n",
    "# Evaluate the model on the test data\n",
    "test_loss, test_acc = model.evaluate(X_test, y_test)\n",
    "\n"
   ]
  }
 ],
 "metadata": {
  "kaggle": {
   "accelerator": "gpu",
   "dataSources": [
    {
     "datasetId": 4687857,
     "sourceId": 7967506,
     "sourceType": "datasetVersion"
    }
   ],
   "isGpuEnabled": true,
   "isInternetEnabled": true,
   "language": "python",
   "sourceType": "notebook"
  },
  "kernelspec": {
   "display_name": "Python 3",
   "language": "python",
   "name": "python3"
  },
  "language_info": {
   "codemirror_mode": {
    "name": "ipython",
    "version": 3
   },
   "file_extension": ".py",
   "mimetype": "text/x-python",
   "name": "python",
   "nbconvert_exporter": "python",
   "pygments_lexer": "ipython3",
   "version": "3.10.13"
  },
  "papermill": {
   "default_parameters": {},
   "duration": 20.880521,
   "end_time": "2024-03-29T06:31:27.852164",
   "environment_variables": {},
   "exception": true,
   "input_path": "__notebook__.ipynb",
   "output_path": "__notebook__.ipynb",
   "parameters": {},
   "start_time": "2024-03-29T06:31:06.971643",
   "version": "2.5.0"
  }
 },
 "nbformat": 4,
 "nbformat_minor": 5
}
